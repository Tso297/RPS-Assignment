{
 "cells": [
  {
   "cell_type": "code",
   "execution_count": 23,
   "metadata": {},
   "outputs": [
    {
     "name": "stdout",
     "output_type": "stream",
     "text": [
      "Welcome to Rock, Paper, Scissors!\n",
      "Computer chooses: Scissors\n",
      "You Win\n",
      "Invalid choice. Please enter Rock, Paper, or Scissors.\n",
      "Thank you for playing.\n"
     ]
    }
   ],
   "source": [
    "import random\n",
    "\n",
    "def get_computer_choice():\n",
    "    choices = [\"Rock\", \"Paper\", \"Scissors\"]\n",
    "    return random.choice(choices)\n",
    "\n",
    "def determine_winner(player_choice, computer_choice):\n",
    "    if player_choice == computer_choice:\n",
    "        return \"Game Tied\"\n",
    "    elif (player_choice == \"Rock\" and computer_choice == \"Paper\") or \\\n",
    "         (player_choice == \"Scissors\" and computer_choice == \"Rock\") or \\\n",
    "         (player_choice == \"Paper\" and computer_choice == \"Scissors\"):\n",
    "        return \"You Lose\"\n",
    "    else:\n",
    "        return \"You Win\"\n",
    "\n",
    "def main():\n",
    "    \n",
    "    while True:\n",
    "        player_choice = input(\"Enter your choice (Rock, Paper, Scissors) or 'Quit' to end: \").capitalize()\n",
    "        \n",
    "        if player_choice == \"Quit\":\n",
    "            print(\"Thank you for playing.\")\n",
    "            break\n",
    "        \n",
    "        if player_choice not in [\"Rock\", \"Paper\", \"Scissors\"]:\n",
    "            print(\"Invalid choice. Please enter Rock, Paper, or Scissors.\")\n",
    "            continue\n",
    "        \n",
    "        computer_choice = get_computer_choice()\n",
    "        print(f\"Computer chooses: {computer_choice}\")\n",
    "        \n",
    "        result = determine_winner(player_choice, computer_choice)\n",
    "        print(result)"
   ]
  },
  {
   "cell_type": "code",
   "execution_count": 4,
   "metadata": {},
   "outputs": [],
   "source": [
    "choice = input('Testing?')\n",
    "return choice"
   ]
  }
 ],
 "metadata": {
  "kernelspec": {
   "display_name": "Python 3",
   "language": "python",
   "name": "python3"
  },
  "language_info": {
   "codemirror_mode": {
    "name": "ipython",
    "version": 3
   },
   "file_extension": ".py",
   "mimetype": "text/x-python",
   "name": "python",
   "nbconvert_exporter": "python",
   "pygments_lexer": "ipython3",
   "version": "3.12.1"
  }
 },
 "nbformat": 4,
 "nbformat_minor": 2
}
